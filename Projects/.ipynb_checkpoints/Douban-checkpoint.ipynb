{
 "cells": [
  {
   "cell_type": "code",
   "execution_count": 39,
   "metadata": {},
   "outputs": [],
   "source": [
    "import os\n",
    "from fake_useragent import UserAgent\n",
    "import requests\n",
    "from bs4 import BeautifulSoup\n",
    "from urllib.request import urlretrieve\n",
    "import time\n",
    "from concurrent.futures import ThreadPoolExecutor, wait, ALL_COMPLETED # multithreading"
   ]
  },
  {
   "cell_type": "code",
   "execution_count": 40,
   "metadata": {},
   "outputs": [],
   "source": [
    "download_path = \"./Projects/DoubanPic\"\n",
    "if not os.path.exists(download_path):\n",
    "    os.makedirs(download_path)\n",
    "    \n",
    "def download_pic(url):\n",
    "    ua = UserAgent()\n",
    "    headers = {'User-Agent':ua.chrome}\n",
    "    r = requests.get(url, headers = headers)\n",
    "    soup = BeautifulSoup(r.text, 'lxml')\n",
    "    \n",
    "    content = soup.find('div', class_ = 'article') # main div\n",
    "    image = content.find_all(\"img\") # all pic\n",
    "    pic_list = [img[\"src\"] for img in image] # all scr link\n",
    "    pic_names = [img[\"alt\"] for img in image] # name of movie\n",
    "    \n",
    "    for link, name in zip(pic_list, pic_names):\n",
    "        urlretrieve(link, f\"{download_path}/{name}.jpg\") # download\n",
    "    \n",
    "    print(f\"{url} all pictures downlaoded\")\n",
    "        "
   ]
  },
  {
   "cell_type": "code",
   "execution_count": 41,
   "metadata": {},
   "outputs": [],
   "source": [
    "def main():\n",
    "    start_urls = [\"https://movie.douban.com/top250\"]\n",
    "    \n",
    "    for i in range(1,10):\n",
    "        start_urls.append(f\"https://movie.douban.com/top250?start={i * 25}&filter=\")\n",
    "    \n",
    "    start_time = time.time()\n",
    "    \n",
    "    #########\n",
    "    # Normal processing\n",
    "    #for url in start_urls:\n",
    "    #    download_pic(url)\n",
    "    #########\n",
    "    \n",
    "    \n",
    "    #########\n",
    "    # Multithreading processing\n",
    "    with ThreadPoolExecutor(max_workers = 10) as executor:\n",
    "        futures = []\n",
    "        for url in start_urls:\n",
    "            future = executor.submit(download_pic, url)\n",
    "            futures.append(future)\n",
    "            \n",
    "    # wait for all\n",
    "    wait(futures, return_when = ALL_COMPLETED)\n",
    "    \n",
    "    #########\n",
    "    \n",
    "    \n",
    "    end_time = time.time()\n",
    "    \n",
    "    print(f\"running time: {end_time - start_time}\")"
   ]
  },
  {
   "cell_type": "code",
   "execution_count": 42,
   "metadata": {},
   "outputs": [
    {
     "name": "stdout",
     "output_type": "stream",
     "text": [
      "https://movie.douban.com/top250?start=125&filter= all pictures downlaoded\n",
      "https://movie.douban.com/top250?start=150&filter= all pictures downlaoded\n",
      "https://movie.douban.com/top250 all pictures downlaodedhttps://movie.douban.com/top250?start=225&filter= all pictures downlaoded\n",
      "\n",
      "https://movie.douban.com/top250?start=100&filter= all pictures downlaoded\n",
      "https://movie.douban.com/top250?start=50&filter= all pictures downlaoded\n",
      "https://movie.douban.com/top250?start=25&filter= all pictures downlaoded\n",
      "https://movie.douban.com/top250?start=200&filter= all pictures downlaoded\n",
      "https://movie.douban.com/top250?start=75&filter= all pictures downlaoded\n",
      "https://movie.douban.com/top250?start=175&filter= all pictures downlaoded\n",
      "running time: 7.350672960281372\n"
     ]
    }
   ],
   "source": [
    "if __name__ == \"__main__\":\n",
    "    main()"
   ]
  },
  {
   "cell_type": "code",
   "execution_count": null,
   "metadata": {},
   "outputs": [],
   "source": []
  },
  {
   "cell_type": "code",
   "execution_count": null,
   "metadata": {},
   "outputs": [],
   "source": []
  }
 ],
 "metadata": {
  "kernelspec": {
   "display_name": "Python 3",
   "language": "python",
   "name": "python3"
  },
  "language_info": {
   "codemirror_mode": {
    "name": "ipython",
    "version": 3
   },
   "file_extension": ".py",
   "mimetype": "text/x-python",
   "name": "python",
   "nbconvert_exporter": "python",
   "pygments_lexer": "ipython3",
   "version": "3.7.4"
  }
 },
 "nbformat": 4,
 "nbformat_minor": 4
}
